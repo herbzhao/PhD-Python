{
 "cells": [
  {
   "cell_type": "code",
   "execution_count": null,
   "metadata": {
    "collapsed": true
   },
   "outputs": [],
   "source": [
    "import os\n",
    "import time\n",
    "import RPi.GPIO as GPIO\n",
    "\n",
    "os.system('modprobe w1-gpio')\n",
    "os.system('modprobe w1-therm')\n",
    "\n",
    "#set up GPIO using BCM numbering\n",
    "GPIO.setmode(GPIO.BCM)\n",
    "#GPIO.setwarnings(False)\n",
    "GPIO.setup(17, GPIO.OUT) ## Setup GPIO Pin  to OUT\n",
    "\n",
    "temp_sensor = '/sys/bus/w1/devices/28-00042b6579ff/w1_slave'\n",
    "temp_log = 'temp_log'\n",
    "\n",
    "def temp_raw():\n",
    "    f = open(temp_sensor, 'r')\n",
    "    l = open(temp_log,'a')\n",
    "    lines = f.readlines()\n",
    "    f.close()\n",
    "    return lines\n",
    "\n",
    "def read_temp():\n",
    "\tlines = temp_raw()\n",
    "\twhile lines[0].strip()[-3:] != 'YES':\n",
    "\t\ttime.sleep(0.2)\n",
    "\t\tlines = temp_raw();\n",
    "\ttemp_output = lines[1].find('t=')\n",
    "\tif temp_output != -1:\n",
    "\t\ttemp_string = lines[1].strip()[temp_output+2:]\n",
    "\t\ttemp_c = float(temp_string) / 1000.0\n",
    "\treturn temp_c\n",
    "\n",
    "\n",
    "while (True):\n",
    "\tprint (read_temp())\n",
    "    \n",
    "\t\n",
    "\tif read_temp() < 37:\n",
    "\t\tGPIO.output(17,False) ## Turn on GPIO pin 7\n",
    "\t\ttime.sleep(0.5)\n",
    "\t\tprint 'heating'\n",
    "\telif read_temp() >= 37:\n",
    "\t\tGPIO.output(17,True) ## Turn on GPIO pin 7\n",
    "\t\ttime.sleep(0.5)\n",
    "\t\tprint 'cooling'\n",
    "GPIO.cleanup()"
   ]
  },
  {
   "cell_type": "code",
   "execution_count": 27,
   "metadata": {
    "collapsed": false
   },
   "outputs": [
    {
     "name": "stdout",
     "output_type": "stream",
     "text": [
      "1\n",
      "\n",
      "2\n",
      "\n",
      "3\n",
      "\n",
      "4\n",
      "\n",
      "5\n",
      "\n"
     ]
    }
   ],
   "source": [
    "f = open('log.txt', 'r+')\n",
    "i=0\n",
    "while i<5:\n",
    "    i=i+1\n",
    "    f.write(\"%s\"  %())\n",
    "    f.write(\"\\n\")\n",
    "\n",
    "f.close()\n",
    "\n",
    "f = open('log.txt', 'r')\n",
    "for line in f:\n",
    "    print line\n",
    "f.close()\n",
    "\n",
    "\n",
    "\n",
    "\n"
   ]
  },
  {
   "cell_type": "code",
   "execution_count": null,
   "metadata": {
    "collapsed": true
   },
   "outputs": [],
   "source": []
  },
  {
   "cell_type": "code",
   "execution_count": null,
   "metadata": {
    "collapsed": true
   },
   "outputs": [],
   "source": []
  }
 ],
 "metadata": {
  "kernelspec": {
   "display_name": "Python 2",
   "language": "python",
   "name": "python2"
  },
  "language_info": {
   "codemirror_mode": {
    "name": "ipython",
    "version": 2
   },
   "file_extension": ".py",
   "mimetype": "text/x-python",
   "name": "python",
   "nbconvert_exporter": "python",
   "pygments_lexer": "ipython2",
   "version": "2.7.11"
  }
 },
 "nbformat": 4,
 "nbformat_minor": 0
}
