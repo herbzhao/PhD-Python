{
 "cells": [
  {
   "cell_type": "code",
   "execution_count": 20,
   "metadata": {
    "collapsed": false
   },
   "outputs": [
    {
     "name": "stdout",
     "output_type": "stream",
     "text": [
      "(-5.0, 1.0)\n"
     ]
    }
   ],
   "source": [
    "import math\n",
    "\n",
    "#print(dir(math))\n",
    "\n",
    "\n",
    "#help(math.cos)\n",
    "\n",
    "# complex numbers: note the use of `j` to specify the imaginary part\n",
    "x = 1 - 5j\n",
    "type(x)\n",
    "\n",
    "print(x.imag,x.real)"
   ]
  },
  {
   "cell_type": "code",
   "execution_count": 10,
   "metadata": {
    "collapsed": false
   },
   "outputs": [],
   "source": [
    "import matplotlib\n",
    "\n",
    "#print(dir(matplotlib))\n",
    "\n",
    "#help(matplotlib.rc)"
   ]
  },
  {
   "cell_type": "code",
   "execution_count": 6,
   "metadata": {
    "collapsed": false
   },
   "outputs": [
    {
     "name": "stdout",
     "output_type": "stream",
     "text": [
      "Hello test\n",
      "value = abcd\n",
      "value1 = 3.14. value2 = 1\n",
      "value1 = 3.1415, value2 = adsfjasjdf\n"
     ]
    }
   ],
   "source": [
    "s = \"Hello world\"\n",
    "type(s)\n",
    "len(s)\n",
    "\n",
    "s2 = s.replace(\"world\", \"test\")\n",
    "print(s2)\n",
    "s2[0:7:2]\n",
    "\n",
    "a = 'abcd'\n",
    "print(\"value = %s\" % a) \n",
    "\n",
    "s2 = \"value1 = %.2f. value2 = %i\" % (3.1415, 1.5)\n",
    "\n",
    "print(s2)\n",
    "\n",
    "\n",
    "# alternative, more intuitive way of formatting a string \n",
    "s3 = 'value1 = {0}, value2 = {1}'.format(3.1415, 'adsfjasjdf')\n",
    "\n",
    "print(s3)\n"
   ]
  },
  {
   "cell_type": "code",
   "execution_count": 17,
   "metadata": {
    "collapsed": false
   },
   "outputs": [
    {
     "name": "stdout",
     "output_type": "stream",
     "text": [
      "[1, 'a', 1.0, (1-1j)]\n",
      "a\n",
      "house of card\n",
      "['h', 'o', 'u', 's', 'e', ' ', 'o', 'f', ' ', 'c', 'a', 'r', 'd']\n",
      "[' ', ' ', 'a', 'c', 'd', 'e', 'f', 'h', 'o', 'o', 'r', 's', 'u']\n"
     ]
    }
   ],
   "source": [
    "l = [1, 'a', 1.0, 1-1j]\n",
    "\n",
    "print(l)\n",
    "print(l[1])\n",
    "\n",
    "list(range(1, 30, 5))\n",
    "\n",
    "s = \"house of card\"\n",
    "print(s)\n",
    "\n",
    "l = list(s)\n",
    "\n",
    "print(l)\n",
    "l.sort()\n",
    "print(l)"
   ]
  },
  {
   "cell_type": "code",
   "execution_count": 28,
   "metadata": {
    "collapsed": false
   },
   "outputs": [
    {
     "name": "stdout",
     "output_type": "stream",
     "text": [
      "['a', 'b', 'd', 'f']\n",
      "['a', 'b', 'd', 'f']\n"
     ]
    }
   ],
   "source": [
    "\n",
    "# create a new empty list\n",
    "l = []\n",
    "\n",
    "# add an elements using `append`\n",
    "l.append(\"a\")\n",
    "l.append(\"b\")\n",
    "l.append(\"c\")\n",
    "\n",
    "l.insert(3, \"d\")\n",
    "l.insert(4, \"e\")\n",
    "l.insert(5, \"f\")\n",
    "\n",
    "\n",
    "\n",
    "del l[2]\n",
    "del l[3]\n",
    "\n",
    "print(l)\n",
    "l.sort()\n",
    "print(l)"
   ]
  },
  {
   "cell_type": "code",
   "execution_count": 33,
   "metadata": {
    "collapsed": false
   },
   "outputs": [
    {
     "name": "stdout",
     "output_type": "stream",
     "text": [
      "(30, 20)\n"
     ]
    }
   ],
   "source": [
    "tuple1 = 10, 20\n",
    "x,y = tuple1\n",
    "\n",
    "tuple2 = y,x\n",
    "\n",
    "tuple1 = 30,20\n",
    "print(tuple1)\n"
   ]
  },
  {
   "cell_type": "code",
   "execution_count": 38,
   "metadata": {
    "collapsed": false
   },
   "outputs": [
    {
     "name": "stdout",
     "output_type": "stream",
     "text": [
      "<type 'dict'>\n",
      "('parameter1 =', 3.0)\n",
      "('parameter2 =', 1.0)\n",
      "('parameter3 =', 2.0)\n",
      "{'parameter4': 3.0, 'abc': 'D', 'parameter3': 2.0, 'parameter2': 1.0}\n"
     ]
    }
   ],
   "source": [
    "params = {\"parameter2\" : 1.0,\n",
    "          \"parameter3\" : 2.0,\n",
    "          \"parameter4\" : 3.0,}\n",
    "\n",
    "print(type(params))\n",
    "\n",
    "print(\"parameter1 =\", params[\"parameter4\"])\n",
    "print(\"parameter2 =\", params[\"parameter2\"])\n",
    "print(\"parameter3 =\", params[\"parameter3\"])\n",
    "params[\"abc\"] = \"D\"\n",
    "\n",
    "print(params)"
   ]
  },
  {
   "cell_type": "code",
   "execution_count": 39,
   "metadata": {
    "collapsed": false
   },
   "outputs": [
    {
     "name": "stdout",
     "output_type": "stream",
     "text": [
      "statement1 and statement2 are False\n"
     ]
    }
   ],
   "source": [
    "\n",
    "statement1 = False\n",
    "statement2 = False\n",
    "\n",
    "if statement1:\n",
    "    print(\"statement1 is True\")\n",
    "    \n",
    "elif statement2:\n",
    "    print(\"statement2 is True\")\n",
    "    \n",
    "else:\n",
    "    print(\"statement1 and statement2 are False\")"
   ]
  },
  {
   "cell_type": "code",
   "execution_count": 3,
   "metadata": {
    "collapsed": false
   },
   "outputs": [],
   "source": [
    "statement1 = statement2 = False\n",
    "\n",
    "if statement1:\n",
    "    if statement2:\n",
    "        print(\"both statement1 and statement2 are True\") "
   ]
  },
  {
   "cell_type": "code",
   "execution_count": 16,
   "metadata": {
    "collapsed": false
   },
   "outputs": [
    {
     "name": "stdout",
     "output_type": "stream",
     "text": [
      "parameter4  =  3.0\n",
      "abc  =  D\n",
      "parameter3  =  2.0\n",
      "parameter2  =  1.0\n"
     ]
    }
   ],
   "source": [
    "params = {\"parameter2\" : 1.0,\n",
    "          \"parameter3\" : 2.0,\n",
    "          \"parameter4\" : 3.0,}\n",
    "\n",
    "params[\"abc\"] = \"D\"\n",
    "\n",
    "for key, value in params.items():\n",
    "    print key, \" = \", value"
   ]
  },
  {
   "cell_type": "code",
   "execution_count": 18,
   "metadata": {
    "collapsed": false
   },
   "outputs": [
    {
     "name": "stdout",
     "output_type": "stream",
     "text": [
      "[0, 3, 6, 9, 12]\n"
     ]
    }
   ],
   "source": [
    "l1 = [x*3 for x in range(0,5)]\n",
    "\n",
    "print(l1)\n"
   ]
  },
  {
   "cell_type": "code",
   "execution_count": 19,
   "metadata": {
    "collapsed": false
   },
   "outputs": [
    {
     "name": "stdout",
     "output_type": "stream",
     "text": [
      "test\n"
     ]
    }
   ],
   "source": [
    "def func0():   \n",
    "    print(\"test\")\n",
    "    \n",
    "func0()"
   ]
  },
  {
   "cell_type": "code",
   "execution_count": 37,
   "metadata": {
    "collapsed": false
   },
   "outputs": [
    {
     "name": "stdout",
     "output_type": "stream",
     "text": [
      "Help on function func1 in module __main__:\n",
      "\n",
      "func1(s)\n",
      "    Print a string 's' and tell how many characters it has\n",
      "\n",
      "addddd has 6 characters\n"
     ]
    }
   ],
   "source": [
    "\n",
    "def func1(s):\n",
    "    \"\"\"\n",
    "    Print a string 's' and tell how many characters it has    \n",
    "    \"\"\"\n",
    "    \n",
    "    print s, 'has', len(s), 'characters'\n",
    "    \n",
    "\n",
    "help(func1)\n",
    "\n",
    "func1('addddd')"
   ]
  },
  {
   "cell_type": "code",
   "execution_count": 29,
   "metadata": {
    "collapsed": false
   },
   "outputs": [
    {
     "name": "stdout",
     "output_type": "stream",
     "text": [
      "25\n"
     ]
    }
   ],
   "source": [
    "def square(x):\n",
    "    \"\"\"\n",
    "    Return the square of x.\n",
    "    \"\"\"\n",
    "    return x ** 2\n",
    "\n",
    "print square(5)\n"
   ]
  },
  {
   "cell_type": "code",
   "execution_count": 44,
   "metadata": {
    "collapsed": false
   },
   "outputs": [
    {
     "name": "stdout",
     "output_type": "stream",
     "text": [
      "('evaluating myfunc for x =', 1, 'using exponent p =', 5)\n"
     ]
    },
    {
     "data": {
      "text/plain": [
       "1"
      ]
     },
     "execution_count": 44,
     "metadata": {},
     "output_type": "execute_result"
    }
   ],
   "source": [
    "def myfunc(x, p=2, debug=False):\n",
    "    if debug:\n",
    "        print(\"evaluating myfunc for x =\", x, \"using exponent p =\", p)\n",
    "    return x**p\n",
    "\n",
    "\n",
    "myfunc(x=1,p=5,debug= True)"
   ]
  },
  {
   "cell_type": "code",
   "execution_count": null,
   "metadata": {
    "collapsed": true
   },
   "outputs": [],
   "source": []
  }
 ],
 "metadata": {
  "kernelspec": {
   "display_name": "Python 2",
   "language": "python",
   "name": "python2"
  },
  "language_info": {
   "codemirror_mode": {
    "name": "ipython",
    "version": 2
   },
   "file_extension": ".py",
   "mimetype": "text/x-python",
   "name": "python",
   "nbconvert_exporter": "python",
   "pygments_lexer": "ipython2",
   "version": "2.7.11"
  }
 },
 "nbformat": 4,
 "nbformat_minor": 0
}
