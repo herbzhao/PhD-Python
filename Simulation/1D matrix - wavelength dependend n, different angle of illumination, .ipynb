{
 "cells": [
  {
   "cell_type": "code",
   "execution_count": 3,
   "metadata": {
    "collapsed": true
   },
   "outputs": [],
   "source": [
    "\n",
    "from __future__ import absolute_import, division, print_function\n",
    "\n",
    "import matplotlib.pyplot as plt\n",
    "from numpy import array, inf, linspace, pi\n",
    "import numpy as np\n",
    "from scipy.interpolate import interp1d\n",
    "from tmm.tmm_core import (coh_tmm, ellips, find_in_structure_with_inf, inc_tmm,\n",
    "                          position_resolved, unpolarized_RT)\n",
    "\n",
    "try:\n",
    "    import colorpy.illuminants\n",
    "    import colorpy.colormodels\n",
    "    from . import color\n",
    "    colors_were_imported = True\n",
    "except ImportError:\n",
    "    # without colorpy, you can't run sample5(), but everything else is fine.\n",
    "    colors_were_imported = False\n",
    "\n",
    "    "
   ]
  },
  {
   "cell_type": "code",
   "execution_count": 35,
   "metadata": {
    "scrolled": true
   },
   "outputs": [],
   "source": [
    "degree = pi/180\n",
    "\n",
    "\n",
    "wavelength_min_nm = 100\n",
    "wavelength_max_nm = 1200\n",
    "wavelength = np.linspace(wavelength_min_nm, wavelength_max_nm, num=400)\n",
    "\n",
    "# make a list of refractive index with wavelength dependence\n",
    "air_n = np.array([])\n",
    "for i in range(len(wavelength)):\n",
    "    air_n = np.append(air_n,[1])\n",
    "    \n",
    "water_n = np.array([])\n",
    "for i in range(len(wavelength)):\n",
    "    water_n = np.append(water_n,[1.33])\n",
    "\n",
    "#define cellulose' refractive index\n",
    "cellulose_n = np.array([])\n",
    "for i in range(len(wavelength)):\n",
    "    #n = np.sqrt(1+1.124*wavelength[i]**2/(wavelength[i]**2-0.011087)) \n",
    "    n = 1.5  + 0.3j\n",
    "    cellulose_n = np.append(cellulose_n, n)\n",
    "    \n",
    "air_n = np.stack((wavelength, air_n))\n",
    "water_n = np.stack((wavelength, water_n))\n",
    "cellulose_n = np.stack((wavelength, cellulose_n))\n",
    "\n",
    "\n",
    "# number of repeats\n",
    "number_of_repeats = 100\n",
    "cellulose_d = 125 / 1.55\n",
    "air_d = 125/1\n",
    "# list of layer thicknesses in nm\n",
    "d_list = []\n",
    "c_list = []\n",
    "# air on top\n",
    "d_list.append(inf)\n",
    "c_list.append('i') # for incoherent\n",
    "n_list = air_n[1]\n",
    "for i in range(0,number_of_repeats):\n",
    "    d_list.append(cellulose_d)\n",
    "    c_list.append('c') # for coherent\n",
    "    d_list.append(air_d)\n",
    "    c_list.append('c') # for coherent\n",
    "    n_list = np.vstack((n_list, cellulose_n[1]))\n",
    "    n_list = np.vstack((n_list, air_n[1]))\n",
    "        \n",
    "# air at the bottom\n",
    "d_list.append(inf)\n",
    "c_list.append('i') # for incoherent\n",
    "n_list = np.vstack((n_list, air_n[1]))\n",
    "# list of refractive indices\n",
    "#n_list = [1, 2.2, 3.3+0.3j, 1]\n",
    "\n"
   ]
  },
  {
   "cell_type": "code",
   "execution_count": 36,
   "metadata": {},
   "outputs": [],
   "source": [
    "\n",
    "Rnorm = [] # reflection at normal direction\n",
    "R45 = [] # reflection at 45 direction\n",
    "\n",
    "# Angles related to the NA of the objective used\n",
    "angles=linspace(0,0,1)\n",
    "\n",
    "RNA = np.zeros((len(wavelength),len(angles)))\n",
    "    \n",
    "for i in range(len(wavelength)):\n",
    "# For normal incidence, s and p polarizations are identical.\n",
    "# I arbitrarily decided to use 's'.\n",
    "\n",
    "#RNA = np.zeros(wavelength.size, angles.size)\n",
    "\n",
    "    for j in range(len(angles)):\n",
    "        RNA[i,j] += inc_tmm('s', n_list[:,i], d_list, c_list, angles[j]*degree, wavelength[i])['R']\n",
    "        RNA[i,j] += inc_tmm('p', n_list[:,i], d_list, c_list, angles[j]*degree, wavelength[i])['R']\n",
    "    \n",
    "RNA = RNA/2\n",
    "RNAmean = np.mean(RNA, axis=1)"
   ]
  },
  {
   "cell_type": "code",
   "execution_count": 37,
   "metadata": {},
   "outputs": [
    {
     "data": {
      "image/png": "[encoded data removed]",
      "text/plain": [
       "<matplotlib.figure.Figure at 0xa041530>"
      ]
     },
     "metadata": {},
     "output_type": "display_data"
    }
   ],
   "source": [
    "\n",
    "fig = plt.figure(figsize=(8,8))\n",
    "plt.plot(wavelength, RNAmean, 'blue', label= 'normal')\n",
    "#plt.plot(wavelength, R45, 'purple', label= '45')\n",
    "\n",
    "#plt.xlabel('k (cm$^{-1}$)')\n",
    "plt.xlabel('lambda')\n",
    "plt.ylabel('Fraction reflected')\n",
    "plt.legend()\n",
    "plt.title('Reflection of unpolarized light at 0$^\\circ$ incidence (blue), '\n",
    "          '45$^\\circ$ (purple)')\n",
    "\n",
    "plt.show()\n",
    "\n",
    "#py.iplot_mpl(fig)\n"
   ]
  },
  {
   "cell_type": "code",
   "execution_count": 12,
   "metadata": {},
   "outputs": [
    {
     "data": {
      "text/html": [
       "<script>requirejs.config({paths: { 'plotly': ['https://cdn.plot.ly/plotly-latest.min']},});if(!window.Plotly) {{require(['plotly'],function(plotly) {window.Plotly=plotly;});}}</script>"
      ],
      "text/vnd.plotly.v1+html": [
       "<script>requirejs.config({paths: { 'plotly': ['https://cdn.plot.ly/plotly-latest.min']},});if(!window.Plotly) {{require(['plotly'],function(plotly) {window.Plotly=plotly;});}}</script>"
      ]
     },
     "metadata": {},
     "output_type": "display_data"
    }
   ],
   "source": [
    "plot_offline = True\n",
    "import plotly\n",
    "\n",
    "if plot_offline is False:\n",
    "    # Start Plotting Online\n",
    "    plotly.tools.set_credentials_file(username='herbzhaocam', api_key='Wvld9LkdNvnOPdifcjhE')\n",
    "    plotly.tools.set_config_file(world_readable=False, sharing='private')\n",
    "    import plotly.plotly as py\n",
    "\n",
    "if plot_offline is True:\n",
    "    plotly.offline.init_notebook_mode(connected=True) #required to run plotly in jupyter offline\n",
    "    import plotly.offline as py\n",
    "    \n",
    "import pandas as pd\n",
    "import numpy as np\n",
    "import scipy as sp\n",
    "import matplotlib.pyplot as plt\n",
    "import matplotlib.mlab as mlab\n",
    "import plotly.graph_objs as go\n",
    "\n",
    "\n"
   ]
  },
  {
   "cell_type": "code",
   "execution_count": 6,
   "metadata": {
    "collapsed": true
   },
   "outputs": [],
   "source": [
    "wavelength = np.linspace(wavelength_min_nm, wavelength_max_nm, num=400)"
   ]
  },
  {
   "cell_type": "code",
   "execution_count": 7,
   "metadata": {},
   "outputs": [
    {
     "data": {
      "text/plain": [
       "400"
      ]
     },
     "execution_count": 7,
     "metadata": {},
     "output_type": "execute_result"
    }
   ],
   "source": [
    "len(wavelength)"
   ]
  },
  {
   "cell_type": "code",
   "execution_count": 92,
   "metadata": {},
   "outputs": [
    {
     "data": {
      "text/plain": [
       "array([[1, 2, 3, 4, 5],\n",
       "       [1, 2, 3, 4, 5],\n",
       "       [1, 2, 3, 4, 5]])"
      ]
     },
     "execution_count": 92,
     "metadata": {},
     "output_type": "execute_result"
    }
   ],
   "source": [
    "a = np.array([1,2,3,4,5])\n",
    "b = np.array([1,2,3,4,5])\n",
    "c= np.array([1,2,3,4,5])\n",
    "\n",
    "d = np.vstack((a,b,c ))\n",
    "d"
   ]
  },
  {
   "cell_type": "code",
   "execution_count": 164,
   "metadata": {},
   "outputs": [],
   "source": [
    "i = []\n",
    "i.append([])"
   ]
  },
  {
   "cell_type": "code",
   "execution_count": null,
   "metadata": {
    "collapsed": true
   },
   "outputs": [],
   "source": []
  }
 ],
 "metadata": {
  "kernelspec": {
   "display_name": "Python 3",
   "language": "python",
   "name": "python3"
  },
  "language_info": {
   "codemirror_mode": {
    "name": "ipython",
    "version": 3
   },
   "file_extension": ".py",
   "mimetype": "text/x-python",
   "name": "python",
   "nbconvert_exporter": "python",
   "pygments_lexer": "ipython3",
   "version": "3.4.5"
  }
 },
 "nbformat": 4,
 "nbformat_minor": 2
}
