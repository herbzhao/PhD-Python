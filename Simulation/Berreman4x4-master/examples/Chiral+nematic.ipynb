{
 "cells": [
  {
   "cell_type": "code",
   "execution_count": 1,
   "metadata": {},
   "outputs": [],
   "source": [
    "#!/usr/bin/python\n",
    "# encoding: utf-8\n",
    "\n",
    "# Berreman4x4 example\n",
    "# Author: O. Castany\n",
    "\n",
    "# Example of a TiO2/SiO2 Bragg mirror with 8.5 periods\n",
    "\n",
    "import numpy, Berreman4x4\n",
    "import scipy.linalg\n",
    "import matplotlib.pyplot as pyplot\n",
    "from Berreman4x4 import c, pi\n",
    "\n",
    "%matplotlib inline"
   ]
  },
  {
   "cell_type": "code",
   "execution_count": 2,
   "metadata": {},
   "outputs": [
    {
     "name": "stdout",
     "output_type": "stream",
     "text": [
      "\n",
      "*** SiO2/TiO2 Bragg mirror ***\n",
      "\n",
      "Thickness of the SiO2 QWP: 263.6 nm\n",
      "Thickness of the TiO2 QWP: 173.8 nm\n"
     ]
    },
    {
     "ename": "AttributeError",
     "evalue": "module 'Berreman4x4' has no attribute 'DataList'",
     "output_type": "error",
     "traceback": [
      "\u001b[1;31m---------------------------------------------------------------------------\u001b[0m",
      "\u001b[1;31mAttributeError\u001b[0m                            Traceback (most recent call last)",
      "\u001b[1;32m<ipython-input-2-cb75bc276570>\u001b[0m in \u001b[0;36m<module>\u001b[1;34m()\u001b[0m\n\u001b[0;32m     46\u001b[0m \u001b[0mlbda_list\u001b[0m \u001b[1;33m=\u001b[0m \u001b[0mnumpy\u001b[0m\u001b[1;33m.\u001b[0m\u001b[0mlinspace\u001b[0m\u001b[1;33m(\u001b[0m\u001b[0mlbda1\u001b[0m\u001b[1;33m,\u001b[0m \u001b[0mlbda2\u001b[0m\u001b[1;33m,\u001b[0m \u001b[1;36m200\u001b[0m\u001b[1;33m)\u001b[0m\u001b[1;33m\u001b[0m\u001b[0m\n\u001b[0;32m     47\u001b[0m \u001b[1;33m\u001b[0m\u001b[0m\n\u001b[1;32m---> 48\u001b[1;33m \u001b[0mdata\u001b[0m \u001b[1;33m=\u001b[0m \u001b[0mBerreman4x4\u001b[0m\u001b[1;33m.\u001b[0m\u001b[0mDataList\u001b[0m\u001b[1;33m(\u001b[0m\u001b[1;33m[\u001b[0m\u001b[0ms\u001b[0m\u001b[1;33m.\u001b[0m\u001b[0mevaluate\u001b[0m\u001b[1;33m(\u001b[0m\u001b[0mKx\u001b[0m\u001b[1;33m,\u001b[0m \u001b[1;36m2\u001b[0m\u001b[1;33m*\u001b[0m\u001b[0mpi\u001b[0m\u001b[1;33m/\u001b[0m\u001b[0mlbda\u001b[0m\u001b[1;33m)\u001b[0m \u001b[1;32mfor\u001b[0m \u001b[0mlbda\u001b[0m \u001b[1;32min\u001b[0m \u001b[0mlbda_list\u001b[0m\u001b[1;33m]\u001b[0m\u001b[1;33m)\u001b[0m\u001b[1;33m\u001b[0m\u001b[0m\n\u001b[0m\u001b[0;32m     49\u001b[0m \u001b[1;33m\u001b[0m\u001b[0m\n\u001b[0;32m     50\u001b[0m \u001b[0mR\u001b[0m \u001b[1;33m=\u001b[0m \u001b[0mdata\u001b[0m\u001b[1;33m.\u001b[0m\u001b[0mget\u001b[0m\u001b[1;33m(\u001b[0m\u001b[1;34m'R_ss'\u001b[0m\u001b[1;33m)\u001b[0m\u001b[1;33m\u001b[0m\u001b[0m\n",
      "\u001b[1;31mAttributeError\u001b[0m: module 'Berreman4x4' has no attribute 'DataList'"
     ]
    }
   ],
   "source": [
    "\n",
    "\n",
    "print(\"\\n*** SiO2/TiO2 Bragg mirror ***\\n\")\n",
    "\n",
    "# Front and back materials\n",
    "air = Berreman4x4.IsotropicNonDispersiveMaterial(1.0)\n",
    "glass = Berreman4x4.IsotropicNonDispersiveMaterial(1.5)\n",
    "\n",
    "front = Berreman4x4.IsotropicHalfSpace(air)\n",
    "back = Berreman4x4.IsotropicHalfSpace(glass)\n",
    "\n",
    "# Materials for a SiO2/TiO2 Bragg mirror\n",
    "lbda0 = 1.550e-6\n",
    "k0 = 2*pi/lbda0\n",
    "nr_SiO2 = 1.47\n",
    "nr_TiO2 = 2.23\n",
    "alpha_SiO2 = 0e2    # (m⁻¹)\n",
    "alpha_TiO2 = 42e2   # (m⁻¹)\n",
    "ni_SiO2 = alpha_SiO2 * lbda0 / (4*pi)\n",
    "ni_TiO2 = alpha_TiO2 * lbda0 / (4*pi)\n",
    "n_SiO2 = nr_SiO2 + 1j * ni_SiO2\n",
    "n_TiO2 = nr_TiO2 + 1j * ni_TiO2\n",
    "\n",
    "SiO2 = Berreman4x4.IsotropicNonDispersiveMaterial(n_SiO2)\n",
    "TiO2 = Berreman4x4.IsotropicNonDispersiveMaterial(n_TiO2)\n",
    "\n",
    "# Layers\n",
    "L_SiO2 = Berreman4x4.HomogeneousIsotropicLayer(SiO2, (\"QWP\", lbda0))\n",
    "L_TiO2 = Berreman4x4.HomogeneousIsotropicLayer(TiO2, (\"QWP\", lbda0))\n",
    "\n",
    "print(\"Thickness of the SiO2 QWP: {:.1f} nm\".format(L_SiO2.h*1e9))\n",
    "print(\"Thickness of the TiO2 QWP: {:.1f} nm\".format(L_TiO2.h*1e9))\n",
    "\n",
    "# Repeated layers: 8.5 periods\n",
    "L = Berreman4x4.RepeatedLayers([L_TiO2, L_SiO2], 8, 0, 1)\n",
    "\n",
    "# To reduce the number of printed characters in the numbers:\n",
    "# numpy.set_printoptions(suppress=True, precision=3)\n",
    "Kx = 0.0\n",
    "\n",
    "# Structure\n",
    "s = Berreman4x4.Structure(front, [L], back)\n",
    "\n",
    "# Calculation\n",
    "(lbda1, lbda2) = (1.1e-6, 2.5e-6)\n",
    "lbda_list = numpy.linspace(lbda1, lbda2, 200)\n",
    "\n",
    "data = Berreman4x4.DataList([s.evaluate(Kx, 2*pi/lbda) for lbda in lbda_list])\n",
    "\n",
    "R = data.get('R_ss')\n",
    "T = data.get('T_ss')\n",
    "\n",
    "# Plotting \n",
    "fig = pyplot.figure()\n",
    "ax = fig.add_subplot(\"111\")\n",
    "ax.plot(lbda_list, R, label=\"$R$\")\n",
    "ax.plot(lbda_list, T, label=\"$T$\")\n",
    "\n",
    "ax.legend(loc='center right')\n",
    "ax.set_xlabel(r\"Wavelength $\\lambda$ (m)\")\n",
    "ax.set_ylabel(r\"Power reflection $R$ or transmission $T$\")\n",
    "ax.set_title(r\"Bragg mirror: Air/{TiO$_2$/SiO$_2$}x8/TiO$_2$/Glass\")\n",
    "\n",
    "fmt = ax.xaxis.get_major_formatter()\n",
    "fmt.set_powerlimits((-3,3))\n",
    "\n",
    "stack = s.drawStructure()\n",
    "pyplot.show()\n",
    "\n"
   ]
  },
  {
   "cell_type": "code",
   "execution_count": null,
   "metadata": {},
   "outputs": [],
   "source": []
  }
 ],
 "metadata": {
  "kernelspec": {
   "display_name": "Python 3",
   "language": "python",
   "name": "python3"
  },
  "language_info": {
   "codemirror_mode": {
    "name": "ipython",
    "version": 3
   },
   "file_extension": ".py",
   "mimetype": "text/x-python",
   "name": "python",
   "nbconvert_exporter": "python",
   "pygments_lexer": "ipython3",
   "version": "3.6.4"
  }
 },
 "nbformat": 4,
 "nbformat_minor": 2
}
