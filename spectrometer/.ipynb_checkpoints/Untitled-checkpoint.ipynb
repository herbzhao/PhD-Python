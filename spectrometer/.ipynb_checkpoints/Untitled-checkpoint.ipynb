{
 "cells": [
  {
   "cell_type": "code",
   "execution_count": 4,
   "metadata": {},
   "outputs": [],
   "source": [
    "import csv\n",
    "import re\n",
    "\n",
    "import matplotlib.pyplot as plt\n",
    "import numpy as np\n",
    "import scipy.io as sio\n",
    "\n",
    "import pandas as pd\n",
    "\n",
    "from scipy import signal\n",
    "\n",
    "\n",
    "\n",
    "\n",
    "\n"
   ]
  },
  {
   "cell_type": "code",
   "execution_count": 244,
   "metadata": {
    "scrolled": false
   },
   "outputs": [
    {
     "ename": "KeyError",
     "evalue": "'test'",
     "output_type": "error",
     "traceback": [
      "\u001b[1;31m---------------------------------------------------------------------------\u001b[0m",
      "\u001b[1;31mKeyError\u001b[0m                                  Traceback (most recent call last)",
      "\u001b[1;32m<ipython-input-244-0040219059fd>\u001b[0m in \u001b[0;36m<module>\u001b[1;34m()\u001b[0m\n\u001b[0;32m     84\u001b[0m \u001b[0mscan\u001b[0m\u001b[1;33m.\u001b[0m\u001b[0mscan_filename\u001b[0m \u001b[1;33m=\u001b[0m \u001b[1;34m'smoothed_peaks.mat'\u001b[0m\u001b[1;33m\u001b[0m\u001b[0m\n\u001b[0;32m     85\u001b[0m \u001b[0mscan\u001b[0m\u001b[1;33m.\u001b[0m\u001b[0moutput_filename\u001b[0m \u001b[1;33m=\u001b[0m \u001b[1;34m'output_smoothed_peaks.csv'\u001b[0m\u001b[1;33m\u001b[0m\u001b[0m\n\u001b[1;32m---> 86\u001b[1;33m \u001b[0mscan\u001b[0m\u001b[1;33m.\u001b[0m\u001b[0mconvert_matlab_scan_2\u001b[0m\u001b[1;33m(\u001b[0m\u001b[1;33m)\u001b[0m\u001b[1;33m\u001b[0m\u001b[0m\n\u001b[0m",
      "\u001b[1;32m<ipython-input-244-0040219059fd>\u001b[0m in \u001b[0;36mconvert_matlab_scan_2\u001b[1;34m(self)\u001b[0m\n\u001b[0;32m     72\u001b[0m         \u001b[0mtable\u001b[0m\u001b[1;33m[\u001b[0m\u001b[1;34m'wavelength'\u001b[0m\u001b[1;33m]\u001b[0m \u001b[1;33m=\u001b[0m \u001b[0mlist\u001b[0m\u001b[1;33m(\u001b[0m\u001b[0mmap\u001b[0m\u001b[1;33m(\u001b[0m\u001b[1;32mlambda\u001b[0m \u001b[0mwavelength\u001b[0m\u001b[1;33m:\u001b[0m \u001b[0mwavelength\u001b[0m\u001b[1;33m[\u001b[0m\u001b[1;36m0\u001b[0m\u001b[1;33m]\u001b[0m\u001b[1;33m,\u001b[0m \u001b[0mself\u001b[0m\u001b[1;33m.\u001b[0m\u001b[0mscan_result\u001b[0m\u001b[1;33m[\u001b[0m\u001b[1;34m'wl'\u001b[0m\u001b[1;33m]\u001b[0m\u001b[1;33m)\u001b[0m\u001b[1;33m)\u001b[0m\u001b[1;33m\u001b[0m\u001b[0m\n\u001b[0;32m     73\u001b[0m         \u001b[0mmap\u001b[0m\u001b[1;33m(\u001b[0m\u001b[1;32mlambda\u001b[0m \u001b[0msample\u001b[0m\u001b[1;33m:\u001b[0m \u001b[0mmap\u001b[0m\u001b[1;33m(\u001b[0m\u001b[1;32mlambda\u001b[0m \u001b[0mwavelength\u001b[0m\u001b[1;33m:\u001b[0m \u001b[0mtable\u001b[0m\u001b[1;33m[\u001b[0m\u001b[1;34m'test'\u001b[0m\u001b[1;33m]\u001b[0m\u001b[1;33m.\u001b[0m\u001b[0mappend\u001b[0m\u001b[1;33m(\u001b[0m\u001b[0mwavelength\u001b[0m\u001b[1;33m)\u001b[0m\u001b[1;33m,\u001b[0m \u001b[0msample\u001b[0m\u001b[1;33m)\u001b[0m\u001b[1;33m,\u001b[0m \u001b[0mtable\u001b[0m\u001b[1;33m[\u001b[0m\u001b[1;34m'wavelength'\u001b[0m\u001b[1;33m]\u001b[0m\u001b[1;33m)\u001b[0m\u001b[1;33m\u001b[0m\u001b[0m\n\u001b[1;32m---> 74\u001b[1;33m         \u001b[0mprint\u001b[0m\u001b[1;33m(\u001b[0m\u001b[0mtable\u001b[0m\u001b[1;33m[\u001b[0m\u001b[1;34m'test'\u001b[0m\u001b[1;33m]\u001b[0m\u001b[1;33m)\u001b[0m\u001b[1;33m\u001b[0m\u001b[0m\n\u001b[0m\u001b[0;32m     75\u001b[0m         \u001b[0mtable\u001b[0m\u001b[1;33m[\u001b[0m\u001b[1;34m'intensity'\u001b[0m\u001b[1;33m]\u001b[0m \u001b[1;33m=\u001b[0m \u001b[0mlist\u001b[0m\u001b[1;33m(\u001b[0m\u001b[0mmap\u001b[0m\u001b[1;33m(\u001b[0m\u001b[1;32mlambda\u001b[0m \u001b[0mintensity\u001b[0m\u001b[1;33m:\u001b[0m \u001b[0mintensity\u001b[0m\u001b[1;33m[\u001b[0m\u001b[1;36m0\u001b[0m\u001b[1;33m]\u001b[0m\u001b[1;33m,\u001b[0m \u001b[0mself\u001b[0m\u001b[1;33m.\u001b[0m\u001b[0mscan_result\u001b[0m\u001b[1;33m[\u001b[0m\u001b[1;34m'spec'\u001b[0m\u001b[1;33m]\u001b[0m\u001b[1;33m)\u001b[0m\u001b[1;33m)\u001b[0m\u001b[1;33m\u001b[0m\u001b[0m\n\u001b[0;32m     76\u001b[0m \u001b[1;33m\u001b[0m\u001b[0m\n",
      "\u001b[1;31mKeyError\u001b[0m: 'test'"
     ]
    }
   ],
   "source": [
    "class read_spectrometer():\n",
    "    def __init__(self):\n",
    "\n",
    "        #regex for sample description classification. example file name: sample1-H20-T20-Nikon10x-001\n",
    "        self.temperature_re = re.compile('T\\d+.?\\d*')\n",
    "        self.humidity_re = re.compile('H\\d+.?\\d*-')\n",
    "        self.spot_number_re = re.compile('sample\\d+-')\n",
    "        \n",
    "        \n",
    "    def convert_matlab_scan(self):\n",
    "        'this converts matlab data into np.ndarray '\n",
    "        self.mat_scan_contents = sio.loadmat(self.folder +'\\\\'+ self.scan_filename)['scan']\n",
    "        self.scan_result = {}\n",
    "        # catagorise scan result into spectrum, description and wavelength\n",
    "        for i in ['spec', 'desc', 'wl']:\n",
    "            self.scan_result[i] = self.mat_scan_contents[i]\n",
    "        # total scan numbers\n",
    "        self.total_scan_number = len(self.scan_result['wl'])\n",
    "        \n",
    "        \n",
    "        def convert_struct_to_column(table, header, scan_header, scan_number):\n",
    "            'a short function to add column to dict' \n",
    "            table[header] = []\n",
    "            for i in self.scan_result[scan_header][scan_number][0]:\n",
    "                table[header].append(float(i))\n",
    "        \n",
    "        table = {}\n",
    "        convert_struct_to_column(table, 'wavelength', 'wl', scan_number = 0)\n",
    "        for i in range(self.total_scan_number):\n",
    "            # the description about sample temperature and humidity\n",
    "            description = str(self.scan_result['desc'][i][0]).replace(\"[\",\"\").replace(\"]\",\"\").replace(\"\\'\",\"\")\n",
    "            convert_struct_to_column(table, description, 'spec', scan_number = i)\n",
    "            \n",
    "        self.df = pd.DataFrame(table)\n",
    "        \n",
    "        # rearrange the header\n",
    "        header = self.df.columns.tolist()\n",
    "        header = header[-1:] + header[:-1]\n",
    "        self.df = self.df[header]\n",
    "        \n",
    "        #writer = pd.ExcelWriter(self.folder +'\\\\'+ 'output_smoothed_peaks.xlsx')\n",
    "        self.df.to_csv(self.folder +'\\\\'+ self.output_filename,  sep=',')\n",
    "\n",
    "        \n",
    "    def convert_matlab_scan_2(self):\n",
    "        'this converts matlab data into np.ndarray '\n",
    "        self.mat_scan_contents = sio.loadmat(self.folder +'\\\\'+ self.scan_filename)['scan']\n",
    "        self.scan_result = {}\n",
    "        # catagorise scan result into spectrum, description and wavelength\n",
    "        for i in ['spec', 'desc', 'wl']:\n",
    "            self.scan_result[i] = self.mat_scan_contents[i]\n",
    "            \n",
    "        '''Modify the description to match the size of wavelength'''\n",
    "        # total spec steps\n",
    "        self.spec_steps = len(self.scan_result['wl'][0][0])\n",
    "        # format descriptions to be list of strings\n",
    "        self.scan_result['formated_desc'] = (list(map(lambda desc: desc[0][0].replace(\"[\",\"\").replace(\"]\",\"\").replace(\"\\'\",\"\") , self.scan_result['desc'])))\n",
    "        \n",
    "        desc_column = []\n",
    "        # duplicate elements in desc by number times\n",
    "        list(map(\n",
    "            lambda j:list(map(\n",
    "                lambda k: desc_column.append(k),\n",
    "                j)), \n",
    "            # create a list with repeated elements in desc (in the form of list)\n",
    "            map(\n",
    "                lambda i: [i]*self.spec_steps,  \n",
    "                self.scan_result['formated_desc'])))\n",
    "        \n",
    "        table = {}\n",
    "        table['sample_name'] = desc_column\n",
    "        table['wavelength'] = list(map(lambda wavelength: wavelength[0], self.scan_result['wl'])) \n",
    "        map(lambda sample: map(lambda wavelength: table['test'].append(wavelength), sample), table['wavelength'])\n",
    "        print(table['test'])\n",
    "        table['intensity'] = list(map(lambda intensity: intensity[0], self.scan_result['spec']))\n",
    "        \n",
    "        print(len(table['wavelength']))\n",
    "\n",
    "        #self.df = pd.DataFrame(table)\n",
    "        \n",
    "    \n",
    "scan = read_spectrometer()\n",
    "scan.folder = r'D:\\GDrive\\Research\\BIP\\Humidity sensor project\\data\\20170810 - temper'\n",
    "scan.scan_filename = 'smoothed_peaks.mat'\n",
    "scan.output_filename = 'output_smoothed_peaks.csv'\n",
    "scan.convert_matlab_scan_2()"
   ]
  },
  {
   "cell_type": "code",
   "execution_count": 216,
   "metadata": {
    "scrolled": false
   },
   "outputs": [
    {
     "name": "stdout",
     "output_type": "stream",
     "text": [
      "['ade', 'ade', 'ade', 'ade', 'ade', 'b', 'b', 'b', 'b', 'b', 'c', 'c', 'c', 'c', 'c']\n"
     ]
    }
   ],
   "source": [
    "desc = ['ade', 'b', 'c']\n",
    "number = 5\n",
    "table = []\n",
    "# duplicate elements in desc by number times\n",
    "list(map(\n",
    "    lambda j:list(map(\n",
    "        lambda k: table.append(k),\n",
    "        j)), \n",
    "    # create a list with repeated elements in desc (in the form of list)\n",
    "    map(\n",
    "        lambda i: [i]*number, \n",
    "        desc)))\n",
    "     \n",
    "print(table)\n",
    "    \n",
    "    "
   ]
  },
  {
   "cell_type": "code",
   "execution_count": null,
   "metadata": {
    "collapsed": true
   },
   "outputs": [],
   "source": []
  }
 ],
 "metadata": {
  "kernelspec": {
   "display_name": "Python 3",
   "language": "python",
   "name": "python3"
  },
  "language_info": {
   "codemirror_mode": {
    "name": "ipython",
    "version": 3
   },
   "file_extension": ".py",
   "mimetype": "text/x-python",
   "name": "python",
   "nbconvert_exporter": "python",
   "pygments_lexer": "ipython3",
   "version": "3.4.5"
  }
 },
 "nbformat": 4,
 "nbformat_minor": 2
}
